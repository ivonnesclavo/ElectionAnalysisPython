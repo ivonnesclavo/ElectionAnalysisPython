{
 "cells": [
  {
   "cell_type": "code",
   "execution_count": 2,
   "id": "a98bb0ce",
   "metadata": {},
   "outputs": [
    {
     "name": "stdout",
     "output_type": "stream",
     "text": [
      "Financial Analysis\n",
      "----------------------------\n",
      "Total months: 86\n",
      "-----------\n",
      "Total Profit/Loss: $22564198\n",
      "-----------\n",
      "Average Change: $-8214.46511627907\n",
      "-----------\n",
      "Greatest Increase in Profits: Aug-16 ($1862002)\n",
      "-----------\n",
      "Greatest Decrease in Profits: Feb-14 ($-1825558)\n"
     ]
    }
   ],
   "source": [
    "import os\n",
    "import csv\n",
    "\n",
    "#Path to Pybank csv\n",
    "pybank_load = os.path.join('.','Pybank/Resources','budget_data.csv')\n",
    "\n",
    "#Open and read csv\n",
    "with open(pybank_load) as pybank_data:\n",
    "    pybank_reader = csv.reader(pybank_data, delimiter = ',')\n",
    "    \n",
    "    #Skip header\n",
    "    header = next(pybank_reader)\n",
    "    \n",
    "    #Set initial variables\n",
    "    total_months = 1            #To count total number of months\n",
    "    net_total = 0               #To calcultate the Net Total Profit/Loss      \n",
    "    total_profit_change = 0     #To calculate total profit change\n",
    "    min_profit = None           #To store minimum profit change\n",
    "    max_profit = None           #To store maximum profit change\n",
    "    min_profit_month = None     #To store month with minimum profit change\n",
    "    max_profit_month = None     #To store month with maximum profit change\n",
    "    first_row = next(pybank_reader)\n",
    "    net_total = int(first_row[1])\n",
    "    prev_month_profit = net_total\n",
    "    \n",
    "    #Loop through\n",
    "    for row in pybank_reader:\n",
    "        \n",
    "        #Add up the total number of months\n",
    "        total_months += 1\n",
    "        \n",
    "        # Extract and add the profit/loss for the current month to the net total\n",
    "        profit_loss = int(row[1])\n",
    "        net_total += profit_loss\n",
    "\n",
    "        # Calculate the profit change for the current month\n",
    "        profit_change = profit_loss - prev_month_profit\n",
    "\n",
    "        # Update the previous month's profit/loss for the next iteration\n",
    "        prev_month_profit = profit_loss\n",
    "\n",
    "        # Check for the month with the minimum profit change\n",
    "        if min_profit is None or profit_change < min_profit:\n",
    "            min_profit = profit_change\n",
    "            min_profit_month = row[0]\n",
    "\n",
    "        # Check for the month with the maximum profit change\n",
    "        if max_profit is None or profit_change > max_profit:\n",
    "            max_profit = profit_change\n",
    "            max_profit_month = row[0]\n",
    "\n",
    "        # Accumulate profit changes\n",
    "        total_profit_change += profit_change\n",
    "        \n",
    "average_profit_change = total_profit_change / (total_months)\n",
    "\n",
    "# Print the Financial Analysis results\n",
    "print(\"Financial Analysis\")\n",
    "print(\"----------------------------\")\n",
    "print(f\"Total months: {total_months}\")\n",
    "print(\"-----------\")\n",
    "print(f\"Total Profit/Loss: ${net_total}\")\n",
    "print(\"-----------\")\n",
    "print(f\"Average Change: ${average_profit_change}\")\n",
    "print(\"-----------\")\n",
    "print(f\"Greatest Increase in Profits: {max_profit_month} (${max_profit})\")\n",
    "print(\"-----------\")\n",
    "print(f\"Greatest Decrease in Profits: {min_profit_month} (${min_profit})\")\n",
    "\n",
    "#Export as text\n",
    "pybank_output = os.path.join('.','Analysis-Results.txt')\n",
    "with open(pybank_output,'w') as text_file_pybank:\n",
    "    text_file_pybank.write(\"Financial Analysis\\n\")\n",
    "    text_file_pybank.write(\"-------------\\n\")\n",
    "    text_file_pybank.write(f\"Total months: {total_months}\\n\")\n",
    "    text_file_pybank.write(\"-------------\\n\")\n",
    "    text_file_pybank.write(f\"Total Profit/Loss: ${net_total}\\n\")\n",
    "    text_file_pybank.write(\"-------------\\n\")\n",
    "    text_file_pybank.write(f\"Average Change: ${average_profit_change}\\n\")         \n",
    "    text_file_pybank.write(\"-------------\\n\")\n",
    "    text_file_pybank.write(f\"Greatest Increase in Profits: {max_profit_month} (${max_profit})\\n\")\n",
    "    text_file_pybank.write(\"-------------\\n\")\n",
    "    text_file_pybank.write(f\"Greatest Decrease in Profits: {min_profit_month} (${min_profit})\\n\")\n",
    "\n",
    "    "
   ]
  },
  {
   "cell_type": "code",
   "execution_count": null,
   "id": "7868832a",
   "metadata": {},
   "outputs": [],
   "source": []
  },
  {
   "cell_type": "code",
   "execution_count": null,
   "id": "3de4c4b5",
   "metadata": {},
   "outputs": [],
   "source": [
    "\n"
   ]
  },
  {
   "cell_type": "code",
   "execution_count": null,
   "id": "cfffcb47",
   "metadata": {},
   "outputs": [],
   "source": [
    "\n"
   ]
  },
  {
   "cell_type": "code",
   "execution_count": null,
   "id": "6a62183f",
   "metadata": {},
   "outputs": [],
   "source": []
  }
 ],
 "metadata": {
  "kernelspec": {
   "display_name": "Python 3 (ipykernel)",
   "language": "python",
   "name": "python3"
  },
  "language_info": {
   "codemirror_mode": {
    "name": "ipython",
    "version": 3
   },
   "file_extension": ".py",
   "mimetype": "text/x-python",
   "name": "python",
   "nbconvert_exporter": "python",
   "pygments_lexer": "ipython3",
   "version": "3.11.4"
  }
 },
 "nbformat": 4,
 "nbformat_minor": 5
}
